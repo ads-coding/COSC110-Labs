{
  "cells": [
    {
      "cell_type": "markdown",
      "metadata": {
        "id": "view-in-github",
        "colab_type": "text"
      },
      "source": [
        "<a href=\"https://colab.research.google.com/github/ads-coding/COSC110-Labs/blob/main/lab4_sympy_monzon.ipynb\" target=\"_parent\"><img src=\"https://colab.research.google.com/assets/colab-badge.svg\" alt=\"Open In Colab\"/></a>"
      ]
    },
    {
      "cell_type": "markdown",
      "id": "epXjlyn6ZAlm",
      "metadata": {
        "id": "epXjlyn6ZAlm"
      },
      "source": [
        "# Exploring Calculus with SymPy\n",
        "\n",
        "## Activity Instructions\n",
        "This activity is designed to help you explore how Python can be used to understand basic ideas in calculus, without needing to do any complex math.\n",
        "\n",
        "Use the Python code snippets provided to experiment and answer the questions."
      ]
    },
    {
      "cell_type": "code",
      "execution_count": 1,
      "id": "vZ0V7WGLXr9O",
      "metadata": {
        "id": "vZ0V7WGLXr9O"
      },
      "outputs": [],
      "source": [
        "from sympy import *\n",
        "x = symbols('x')"
      ]
    },
    {
      "cell_type": "markdown",
      "id": "RPFHhyHsYhGm",
      "metadata": {
        "id": "RPFHhyHsYhGm"
      },
      "source": [
        "---\n",
        "## Playing with Symbols\n",
        "\n",
        "Try running this code:"
      ]
    },
    {
      "cell_type": "code",
      "execution_count": 2,
      "id": "A92JlyDyYixm",
      "metadata": {
        "id": "A92JlyDyYixm",
        "colab": {
          "base_uri": "https://localhost:8080/",
          "height": 38
        },
        "outputId": "1af3adad-a81a-4b93-fafd-6c800496206d"
      },
      "outputs": [
        {
          "output_type": "execute_result",
          "data": {
            "text/plain": [
              "2*x"
            ],
            "text/latex": "$\\displaystyle 2 x$"
          },
          "metadata": {},
          "execution_count": 2
        }
      ],
      "source": [
        "x + x"
      ]
    },
    {
      "cell_type": "markdown",
      "id": "PX2gRq34YloO",
      "metadata": {
        "id": "PX2gRq34YloO"
      },
      "source": [
        "**1. What do you think 'x + x' means?**\n",
        "\n",
        "It means `2x` but for SymPy, it is `2*x`. SymPy is treating `x` as a symbol, so `x + x` simplifies to `2*x`."
      ]
    },
    {
      "cell_type": "markdown",
      "id": "yVF3ZEOoYwZe",
      "metadata": {
        "id": "yVF3ZEOoYwZe"
      },
      "source": [
        "Now try this:"
      ]
    },
    {
      "cell_type": "code",
      "execution_count": 3,
      "id": "bxUoWvBmYulL",
      "metadata": {
        "id": "bxUoWvBmYulL",
        "colab": {
          "base_uri": "https://localhost:8080/",
          "height": 38
        },
        "outputId": "7949337d-a5ce-4f63-f278-16583b7393a7"
      },
      "outputs": [
        {
          "output_type": "execute_result",
          "data": {
            "text/plain": [
              "x**2"
            ],
            "text/latex": "$\\displaystyle x^{2}$"
          },
          "metadata": {},
          "execution_count": 3
        }
      ],
      "source": [
        "x * x"
      ]
    },
    {
      "cell_type": "markdown",
      "id": "WTpPkyAlY1p1",
      "metadata": {
        "id": "WTpPkyAlY1p1"
      },
      "source": [
        "**2. What does `x * x` represent?**\n",
        "\n",
        "It represents `x` squared but for SymPy, it is `x**2`. This is multiplication of a symbol with itself."
      ]
    },
    {
      "cell_type": "markdown",
      "id": "QiSJjx_VHq1p",
      "metadata": {
        "id": "QiSJjx_VHq1p"
      },
      "source": [
        "---\n",
        "## Exploring Limits\n",
        "\n",
        "Try this code:"
      ]
    },
    {
      "cell_type": "code",
      "execution_count": 4,
      "id": "7JRyFVohH7UO",
      "metadata": {
        "id": "7JRyFVohH7UO",
        "colab": {
          "base_uri": "https://localhost:8080/",
          "height": 37
        },
        "outputId": "53803bc8-624e-4ee0-d4bb-317f18dfb23a"
      },
      "outputs": [
        {
          "output_type": "execute_result",
          "data": {
            "text/plain": [
              "1"
            ],
            "text/latex": "$\\displaystyle 1$"
          },
          "metadata": {},
          "execution_count": 4
        }
      ],
      "source": [
        "limit(sin(x)/x, x, 0)"
      ]
    },
    {
      "cell_type": "markdown",
      "id": "ywTipXNaH5VC",
      "metadata": {
        "id": "ywTipXNaH5VC"
      },
      "source": [
        "**3. What result do you get? What do you think it means?**\n",
        "\n",
        "The result is `1`. It means that the limit of `sin(x)/x` as `x` approaches 0 is 1, it is a common limit in calculus."
      ]
    },
    {
      "cell_type": "markdown",
      "id": "_0bSbQm5IPe3",
      "metadata": {
        "id": "_0bSbQm5IPe3"
      },
      "source": [
        "---\n",
        "## Playing with Derivatives\n",
        "\n",
        "Run this:"
      ]
    },
    {
      "cell_type": "code",
      "execution_count": 5,
      "id": "ODeV9TfcISxy",
      "metadata": {
        "id": "ODeV9TfcISxy",
        "colab": {
          "base_uri": "https://localhost:8080/",
          "height": 38
        },
        "outputId": "caa18453-1dad-4b55-995d-ebed5c465edd"
      },
      "outputs": [
        {
          "output_type": "execute_result",
          "data": {
            "text/plain": [
              "2*x"
            ],
            "text/latex": "$\\displaystyle 2 x$"
          },
          "metadata": {},
          "execution_count": 5
        }
      ],
      "source": [
        "diff(x**2, x)"
      ]
    },
    {
      "cell_type": "markdown",
      "id": "zkB8nUcCIVWK",
      "metadata": {
        "id": "zkB8nUcCIVWK"
      },
      "source": [
        "**4. What is the output? Can you describe what it tells you?**\n",
        "\n",
        "The output is `2*x`. This is the derivative of `x**2`, showing how fast `x**2` changes with respect to `x`."
      ]
    },
    {
      "cell_type": "markdown",
      "id": "MuBEwsMjHvaE",
      "metadata": {
        "id": "MuBEwsMjHvaE"
      },
      "source": [
        "---\n",
        "\n",
        "## 4. Series Expansion\n",
        "\n",
        "Run this code:"
      ]
    },
    {
      "cell_type": "code",
      "execution_count": 6,
      "id": "cfjBnBRDI_zz",
      "metadata": {
        "id": "cfjBnBRDI_zz",
        "colab": {
          "base_uri": "https://localhost:8080/",
          "height": 54
        },
        "outputId": "2f91c5ac-53fc-485b-92db-375c9fac686b"
      },
      "outputs": [
        {
          "output_type": "execute_result",
          "data": {
            "text/plain": [
              "1 + x + x**2/2 + x**3/6 + O(x**4)"
            ],
            "text/latex": "$\\displaystyle 1 + x + \\frac{x^{2}}{2} + \\frac{x^{3}}{6} + O\\left(x^{4}\\right)$"
          },
          "metadata": {},
          "execution_count": 6
        }
      ],
      "source": [
        "exp(x).series(x, 0, 4)"
      ]
    },
    {
      "cell_type": "markdown",
      "id": "v_kHGdQlJDn0",
      "metadata": {
        "id": "v_kHGdQlJDn0"
      },
      "source": [
        "**5. What do you see? How many terms are shown in the result?**\n",
        "\n",
        "The result is the first 4 terms of the Maclaurin series expansion of `e^x`. It shows terms up to `x**3`."
      ]
    },
    {
      "cell_type": "markdown",
      "id": "o89x7hPEJSzC",
      "metadata": {
        "id": "o89x7hPEJSzC"
      },
      "source": [
        "---\n",
        "\n",
        "## 5. Solving Equations\n",
        "\n",
        "Try solving this equation:"
      ]
    },
    {
      "cell_type": "code",
      "execution_count": 7,
      "id": "nZRx2-FMJVU4",
      "metadata": {
        "id": "nZRx2-FMJVU4",
        "colab": {
          "base_uri": "https://localhost:8080/"
        },
        "outputId": "56d3db83-c2b5-416d-ba96-ded2f50e63c4"
      },
      "outputs": [
        {
          "output_type": "execute_result",
          "data": {
            "text/plain": [
              "[-2, 2]"
            ]
          },
          "metadata": {},
          "execution_count": 7
        }
      ],
      "source": [
        "solve(Eq(x**2 - 4, 0), x)"
      ]
    },
    {
      "cell_type": "markdown",
      "id": "BpwkEmDWJZyS",
      "metadata": {
        "id": "BpwkEmDWJZyS"
      },
      "source": [
        "**6. What are the answers?**\n",
        "\n",
        "The solutions are `x = -2` and `x = 2`. These are the roots of the equation `x^2 - 4 = 0`."
      ]
    },
    {
      "cell_type": "markdown",
      "id": "27ZbZbLIJgzK",
      "metadata": {
        "id": "27ZbZbLIJgzK"
      },
      "source": [
        "**7. What kind of problem do you think this is?**\n",
        "\n",
        "This is an algebraic equation-solving problem. We're finding values of `x` that satisfy a polynomial equation."
      ]
    },
    {
      "cell_type": "markdown",
      "id": "OuURTQQuXTgj",
      "metadata": {
        "id": "OuURTQQuXTgj"
      },
      "source": [
        "**8. What was your favorite part of this activity?**\n",
        "\n",
        "Using SymPy to calculate limits and derivatives automatically was interesting and helpful."
      ]
    },
    {
      "cell_type": "markdown",
      "id": "CkwbgwxSJu8g",
      "metadata": {
        "id": "CkwbgwxSJu8g"
      },
      "source": [
        "**9. What was something new or surprising you learned?**\n",
        "\n",
        "I learned how easily SymPy can handle calculus operations like derivatives, limits, and series expansions."
      ]
    }
  ],
  "metadata": {
    "colab": {
      "provenance": [],
      "include_colab_link": true
    },
    "kernelspec": {
      "display_name": "Python 3",
      "language": "python",
      "name": "python3"
    },
    "language_info": {
      "codemirror_mode": {
        "name": "ipython",
        "version": 3
      },
      "file_extension": ".py",
      "mimetype": "text/x-python",
      "name": "python",
      "nbconvert_exporter": "python",
      "pygments_lexer": "ipython3",
      "version": "3.8.16"
    }
  },
  "nbformat": 4,
  "nbformat_minor": 5
}
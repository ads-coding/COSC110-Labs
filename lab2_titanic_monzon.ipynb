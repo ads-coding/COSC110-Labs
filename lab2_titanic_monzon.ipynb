{
  "cells": [
    {
      "cell_type": "markdown",
      "metadata": {
        "id": "view-in-github",
        "colab_type": "text"
      },
      "source": [
        "<a href=\"https://colab.research.google.com/github/ads-coding/COSC110-Labs/blob/main/lab2_titanic_monzon.ipynb\" target=\"_parent\"><img src=\"https://colab.research.google.com/assets/colab-badge.svg\" alt=\"Open In Colab\"/></a>"
      ]
    },
    {
      "cell_type": "markdown",
      "id": "0972b98e",
      "metadata": {
        "id": "0972b98e"
      },
      "source": [
        "# Titanic Dataset Cleaning & Analysis"
      ]
    },
    {
      "cell_type": "markdown",
      "source": [
        "# I. Steps in Cleaning the Dataset\n"
      ],
      "metadata": {
        "id": "no06MgoTjVYA"
      },
      "id": "no06MgoTjVYA"
    },
    {
      "cell_type": "code",
      "execution_count": 42,
      "id": "06ddc5b6",
      "metadata": {
        "id": "06ddc5b6"
      },
      "outputs": [],
      "source": [
        "import pandas as pd\n",
        "import matplotlib.pyplot as plt"
      ]
    },
    {
      "cell_type": "markdown",
      "id": "ca9032e0",
      "metadata": {
        "id": "ca9032e0"
      },
      "source": [
        "## 1. Load and Understand the Dataset"
      ]
    },
    {
      "cell_type": "code",
      "execution_count": 43,
      "id": "41b3f9bc",
      "metadata": {
        "colab": {
          "base_uri": "https://localhost:8080/",
          "height": 363
        },
        "id": "41b3f9bc",
        "outputId": "6f22e468-8b26-4812-b5ed-388e326b40b5"
      },
      "outputs": [
        {
          "output_type": "execute_result",
          "data": {
            "text/plain": [
              "   PassengerId  Survived  Pclass  \\\n",
              "0            1         0       3   \n",
              "1            2         1       1   \n",
              "2            3         1       3   \n",
              "3            4         1       1   \n",
              "4            5         0       3   \n",
              "\n",
              "                                                Name     Sex   Age  SibSp  \\\n",
              "0                            Braund, Mr. Owen Harris    male  22.0      1   \n",
              "1  Cumings, Mrs. John Bradley (Florence Briggs Th...  female  38.0      1   \n",
              "2                             Heikkinen, Miss. Laina  female  26.0      0   \n",
              "3       Futrelle, Mrs. Jacques Heath (Lily May Peel)  female  35.0      1   \n",
              "4                           Allen, Mr. William Henry    male  35.0      0   \n",
              "\n",
              "   Parch            Ticket     Fare Cabin Embarked  \n",
              "0      0         A/5 21171   7.2500   NaN        S  \n",
              "1      0          PC 17599  71.2833   C85        C  \n",
              "2      0  STON/O2. 3101282   7.9250   NaN        S  \n",
              "3      0            113803  53.1000  C123        S  \n",
              "4      0            373450   8.0500   NaN        S  "
            ],
            "text/html": [
              "\n",
              "  <div id=\"df-7218f82a-33e1-4856-b4f8-befa303bce43\" class=\"colab-df-container\">\n",
              "    <div>\n",
              "<style scoped>\n",
              "    .dataframe tbody tr th:only-of-type {\n",
              "        vertical-align: middle;\n",
              "    }\n",
              "\n",
              "    .dataframe tbody tr th {\n",
              "        vertical-align: top;\n",
              "    }\n",
              "\n",
              "    .dataframe thead th {\n",
              "        text-align: right;\n",
              "    }\n",
              "</style>\n",
              "<table border=\"1\" class=\"dataframe\">\n",
              "  <thead>\n",
              "    <tr style=\"text-align: right;\">\n",
              "      <th></th>\n",
              "      <th>PassengerId</th>\n",
              "      <th>Survived</th>\n",
              "      <th>Pclass</th>\n",
              "      <th>Name</th>\n",
              "      <th>Sex</th>\n",
              "      <th>Age</th>\n",
              "      <th>SibSp</th>\n",
              "      <th>Parch</th>\n",
              "      <th>Ticket</th>\n",
              "      <th>Fare</th>\n",
              "      <th>Cabin</th>\n",
              "      <th>Embarked</th>\n",
              "    </tr>\n",
              "  </thead>\n",
              "  <tbody>\n",
              "    <tr>\n",
              "      <th>0</th>\n",
              "      <td>1</td>\n",
              "      <td>0</td>\n",
              "      <td>3</td>\n",
              "      <td>Braund, Mr. Owen Harris</td>\n",
              "      <td>male</td>\n",
              "      <td>22.0</td>\n",
              "      <td>1</td>\n",
              "      <td>0</td>\n",
              "      <td>A/5 21171</td>\n",
              "      <td>7.2500</td>\n",
              "      <td>NaN</td>\n",
              "      <td>S</td>\n",
              "    </tr>\n",
              "    <tr>\n",
              "      <th>1</th>\n",
              "      <td>2</td>\n",
              "      <td>1</td>\n",
              "      <td>1</td>\n",
              "      <td>Cumings, Mrs. John Bradley (Florence Briggs Th...</td>\n",
              "      <td>female</td>\n",
              "      <td>38.0</td>\n",
              "      <td>1</td>\n",
              "      <td>0</td>\n",
              "      <td>PC 17599</td>\n",
              "      <td>71.2833</td>\n",
              "      <td>C85</td>\n",
              "      <td>C</td>\n",
              "    </tr>\n",
              "    <tr>\n",
              "      <th>2</th>\n",
              "      <td>3</td>\n",
              "      <td>1</td>\n",
              "      <td>3</td>\n",
              "      <td>Heikkinen, Miss. Laina</td>\n",
              "      <td>female</td>\n",
              "      <td>26.0</td>\n",
              "      <td>0</td>\n",
              "      <td>0</td>\n",
              "      <td>STON/O2. 3101282</td>\n",
              "      <td>7.9250</td>\n",
              "      <td>NaN</td>\n",
              "      <td>S</td>\n",
              "    </tr>\n",
              "    <tr>\n",
              "      <th>3</th>\n",
              "      <td>4</td>\n",
              "      <td>1</td>\n",
              "      <td>1</td>\n",
              "      <td>Futrelle, Mrs. Jacques Heath (Lily May Peel)</td>\n",
              "      <td>female</td>\n",
              "      <td>35.0</td>\n",
              "      <td>1</td>\n",
              "      <td>0</td>\n",
              "      <td>113803</td>\n",
              "      <td>53.1000</td>\n",
              "      <td>C123</td>\n",
              "      <td>S</td>\n",
              "    </tr>\n",
              "    <tr>\n",
              "      <th>4</th>\n",
              "      <td>5</td>\n",
              "      <td>0</td>\n",
              "      <td>3</td>\n",
              "      <td>Allen, Mr. William Henry</td>\n",
              "      <td>male</td>\n",
              "      <td>35.0</td>\n",
              "      <td>0</td>\n",
              "      <td>0</td>\n",
              "      <td>373450</td>\n",
              "      <td>8.0500</td>\n",
              "      <td>NaN</td>\n",
              "      <td>S</td>\n",
              "    </tr>\n",
              "  </tbody>\n",
              "</table>\n",
              "</div>\n",
              "    <div class=\"colab-df-buttons\">\n",
              "\n",
              "  <div class=\"colab-df-container\">\n",
              "    <button class=\"colab-df-convert\" onclick=\"convertToInteractive('df-7218f82a-33e1-4856-b4f8-befa303bce43')\"\n",
              "            title=\"Convert this dataframe to an interactive table.\"\n",
              "            style=\"display:none;\">\n",
              "\n",
              "  <svg xmlns=\"http://www.w3.org/2000/svg\" height=\"24px\" viewBox=\"0 -960 960 960\">\n",
              "    <path d=\"M120-120v-720h720v720H120Zm60-500h600v-160H180v160Zm220 220h160v-160H400v160Zm0 220h160v-160H400v160ZM180-400h160v-160H180v160Zm440 0h160v-160H620v160ZM180-180h160v-160H180v160Zm440 0h160v-160H620v160Z\"/>\n",
              "  </svg>\n",
              "    </button>\n",
              "\n",
              "  <style>\n",
              "    .colab-df-container {\n",
              "      display:flex;\n",
              "      gap: 12px;\n",
              "    }\n",
              "\n",
              "    .colab-df-convert {\n",
              "      background-color: #E8F0FE;\n",
              "      border: none;\n",
              "      border-radius: 50%;\n",
              "      cursor: pointer;\n",
              "      display: none;\n",
              "      fill: #1967D2;\n",
              "      height: 32px;\n",
              "      padding: 0 0 0 0;\n",
              "      width: 32px;\n",
              "    }\n",
              "\n",
              "    .colab-df-convert:hover {\n",
              "      background-color: #E2EBFA;\n",
              "      box-shadow: 0px 1px 2px rgba(60, 64, 67, 0.3), 0px 1px 3px 1px rgba(60, 64, 67, 0.15);\n",
              "      fill: #174EA6;\n",
              "    }\n",
              "\n",
              "    .colab-df-buttons div {\n",
              "      margin-bottom: 4px;\n",
              "    }\n",
              "\n",
              "    [theme=dark] .colab-df-convert {\n",
              "      background-color: #3B4455;\n",
              "      fill: #D2E3FC;\n",
              "    }\n",
              "\n",
              "    [theme=dark] .colab-df-convert:hover {\n",
              "      background-color: #434B5C;\n",
              "      box-shadow: 0px 1px 3px 1px rgba(0, 0, 0, 0.15);\n",
              "      filter: drop-shadow(0px 1px 2px rgba(0, 0, 0, 0.3));\n",
              "      fill: #FFFFFF;\n",
              "    }\n",
              "  </style>\n",
              "\n",
              "    <script>\n",
              "      const buttonEl =\n",
              "        document.querySelector('#df-7218f82a-33e1-4856-b4f8-befa303bce43 button.colab-df-convert');\n",
              "      buttonEl.style.display =\n",
              "        google.colab.kernel.accessAllowed ? 'block' : 'none';\n",
              "\n",
              "      async function convertToInteractive(key) {\n",
              "        const element = document.querySelector('#df-7218f82a-33e1-4856-b4f8-befa303bce43');\n",
              "        const dataTable =\n",
              "          await google.colab.kernel.invokeFunction('convertToInteractive',\n",
              "                                                    [key], {});\n",
              "        if (!dataTable) return;\n",
              "\n",
              "        const docLinkHtml = 'Like what you see? Visit the ' +\n",
              "          '<a target=\"_blank\" href=https://colab.research.google.com/notebooks/data_table.ipynb>data table notebook</a>'\n",
              "          + ' to learn more about interactive tables.';\n",
              "        element.innerHTML = '';\n",
              "        dataTable['output_type'] = 'display_data';\n",
              "        await google.colab.output.renderOutput(dataTable, element);\n",
              "        const docLink = document.createElement('div');\n",
              "        docLink.innerHTML = docLinkHtml;\n",
              "        element.appendChild(docLink);\n",
              "      }\n",
              "    </script>\n",
              "  </div>\n",
              "\n",
              "\n",
              "<div id=\"df-07bee862-90cc-4ac4-aa10-53f06fff4400\">\n",
              "  <button class=\"colab-df-quickchart\" onclick=\"quickchart('df-07bee862-90cc-4ac4-aa10-53f06fff4400')\"\n",
              "            title=\"Suggest charts\"\n",
              "            style=\"display:none;\">\n",
              "\n",
              "<svg xmlns=\"http://www.w3.org/2000/svg\" height=\"24px\"viewBox=\"0 0 24 24\"\n",
              "     width=\"24px\">\n",
              "    <g>\n",
              "        <path d=\"M19 3H5c-1.1 0-2 .9-2 2v14c0 1.1.9 2 2 2h14c1.1 0 2-.9 2-2V5c0-1.1-.9-2-2-2zM9 17H7v-7h2v7zm4 0h-2V7h2v10zm4 0h-2v-4h2v4z\"/>\n",
              "    </g>\n",
              "</svg>\n",
              "  </button>\n",
              "\n",
              "<style>\n",
              "  .colab-df-quickchart {\n",
              "      --bg-color: #E8F0FE;\n",
              "      --fill-color: #1967D2;\n",
              "      --hover-bg-color: #E2EBFA;\n",
              "      --hover-fill-color: #174EA6;\n",
              "      --disabled-fill-color: #AAA;\n",
              "      --disabled-bg-color: #DDD;\n",
              "  }\n",
              "\n",
              "  [theme=dark] .colab-df-quickchart {\n",
              "      --bg-color: #3B4455;\n",
              "      --fill-color: #D2E3FC;\n",
              "      --hover-bg-color: #434B5C;\n",
              "      --hover-fill-color: #FFFFFF;\n",
              "      --disabled-bg-color: #3B4455;\n",
              "      --disabled-fill-color: #666;\n",
              "  }\n",
              "\n",
              "  .colab-df-quickchart {\n",
              "    background-color: var(--bg-color);\n",
              "    border: none;\n",
              "    border-radius: 50%;\n",
              "    cursor: pointer;\n",
              "    display: none;\n",
              "    fill: var(--fill-color);\n",
              "    height: 32px;\n",
              "    padding: 0;\n",
              "    width: 32px;\n",
              "  }\n",
              "\n",
              "  .colab-df-quickchart:hover {\n",
              "    background-color: var(--hover-bg-color);\n",
              "    box-shadow: 0 1px 2px rgba(60, 64, 67, 0.3), 0 1px 3px 1px rgba(60, 64, 67, 0.15);\n",
              "    fill: var(--button-hover-fill-color);\n",
              "  }\n",
              "\n",
              "  .colab-df-quickchart-complete:disabled,\n",
              "  .colab-df-quickchart-complete:disabled:hover {\n",
              "    background-color: var(--disabled-bg-color);\n",
              "    fill: var(--disabled-fill-color);\n",
              "    box-shadow: none;\n",
              "  }\n",
              "\n",
              "  .colab-df-spinner {\n",
              "    border: 2px solid var(--fill-color);\n",
              "    border-color: transparent;\n",
              "    border-bottom-color: var(--fill-color);\n",
              "    animation:\n",
              "      spin 1s steps(1) infinite;\n",
              "  }\n",
              "\n",
              "  @keyframes spin {\n",
              "    0% {\n",
              "      border-color: transparent;\n",
              "      border-bottom-color: var(--fill-color);\n",
              "      border-left-color: var(--fill-color);\n",
              "    }\n",
              "    20% {\n",
              "      border-color: transparent;\n",
              "      border-left-color: var(--fill-color);\n",
              "      border-top-color: var(--fill-color);\n",
              "    }\n",
              "    30% {\n",
              "      border-color: transparent;\n",
              "      border-left-color: var(--fill-color);\n",
              "      border-top-color: var(--fill-color);\n",
              "      border-right-color: var(--fill-color);\n",
              "    }\n",
              "    40% {\n",
              "      border-color: transparent;\n",
              "      border-right-color: var(--fill-color);\n",
              "      border-top-color: var(--fill-color);\n",
              "    }\n",
              "    60% {\n",
              "      border-color: transparent;\n",
              "      border-right-color: var(--fill-color);\n",
              "    }\n",
              "    80% {\n",
              "      border-color: transparent;\n",
              "      border-right-color: var(--fill-color);\n",
              "      border-bottom-color: var(--fill-color);\n",
              "    }\n",
              "    90% {\n",
              "      border-color: transparent;\n",
              "      border-bottom-color: var(--fill-color);\n",
              "    }\n",
              "  }\n",
              "</style>\n",
              "\n",
              "  <script>\n",
              "    async function quickchart(key) {\n",
              "      const quickchartButtonEl =\n",
              "        document.querySelector('#' + key + ' button');\n",
              "      quickchartButtonEl.disabled = true;  // To prevent multiple clicks.\n",
              "      quickchartButtonEl.classList.add('colab-df-spinner');\n",
              "      try {\n",
              "        const charts = await google.colab.kernel.invokeFunction(\n",
              "            'suggestCharts', [key], {});\n",
              "      } catch (error) {\n",
              "        console.error('Error during call to suggestCharts:', error);\n",
              "      }\n",
              "      quickchartButtonEl.classList.remove('colab-df-spinner');\n",
              "      quickchartButtonEl.classList.add('colab-df-quickchart-complete');\n",
              "    }\n",
              "    (() => {\n",
              "      let quickchartButtonEl =\n",
              "        document.querySelector('#df-07bee862-90cc-4ac4-aa10-53f06fff4400 button');\n",
              "      quickchartButtonEl.style.display =\n",
              "        google.colab.kernel.accessAllowed ? 'block' : 'none';\n",
              "    })();\n",
              "  </script>\n",
              "</div>\n",
              "\n",
              "    </div>\n",
              "  </div>\n"
            ],
            "application/vnd.google.colaboratory.intrinsic+json": {
              "type": "dataframe",
              "variable_name": "df",
              "summary": "{\n  \"name\": \"df\",\n  \"rows\": 891,\n  \"fields\": [\n    {\n      \"column\": \"PassengerId\",\n      \"properties\": {\n        \"dtype\": \"number\",\n        \"std\": 257,\n        \"min\": 1,\n        \"max\": 891,\n        \"num_unique_values\": 891,\n        \"samples\": [\n          710,\n          440,\n          841\n        ],\n        \"semantic_type\": \"\",\n        \"description\": \"\"\n      }\n    },\n    {\n      \"column\": \"Survived\",\n      \"properties\": {\n        \"dtype\": \"number\",\n        \"std\": 0,\n        \"min\": 0,\n        \"max\": 1,\n        \"num_unique_values\": 2,\n        \"samples\": [\n          1,\n          0\n        ],\n        \"semantic_type\": \"\",\n        \"description\": \"\"\n      }\n    },\n    {\n      \"column\": \"Pclass\",\n      \"properties\": {\n        \"dtype\": \"number\",\n        \"std\": 0,\n        \"min\": 1,\n        \"max\": 3,\n        \"num_unique_values\": 3,\n        \"samples\": [\n          3,\n          1\n        ],\n        \"semantic_type\": \"\",\n        \"description\": \"\"\n      }\n    },\n    {\n      \"column\": \"Name\",\n      \"properties\": {\n        \"dtype\": \"string\",\n        \"num_unique_values\": 891,\n        \"samples\": [\n          \"Moubarek, Master. Halim Gonios (\\\"William George\\\")\",\n          \"Kvillner, Mr. Johan Henrik Johannesson\"\n        ],\n        \"semantic_type\": \"\",\n        \"description\": \"\"\n      }\n    },\n    {\n      \"column\": \"Sex\",\n      \"properties\": {\n        \"dtype\": \"category\",\n        \"num_unique_values\": 2,\n        \"samples\": [\n          \"female\",\n          \"male\"\n        ],\n        \"semantic_type\": \"\",\n        \"description\": \"\"\n      }\n    },\n    {\n      \"column\": \"Age\",\n      \"properties\": {\n        \"dtype\": \"number\",\n        \"std\": 14.526497332334044,\n        \"min\": 0.42,\n        \"max\": 80.0,\n        \"num_unique_values\": 88,\n        \"samples\": [\n          0.75,\n          22.0\n        ],\n        \"semantic_type\": \"\",\n        \"description\": \"\"\n      }\n    },\n    {\n      \"column\": \"SibSp\",\n      \"properties\": {\n        \"dtype\": \"number\",\n        \"std\": 1,\n        \"min\": 0,\n        \"max\": 8,\n        \"num_unique_values\": 7,\n        \"samples\": [\n          1,\n          0\n        ],\n        \"semantic_type\": \"\",\n        \"description\": \"\"\n      }\n    },\n    {\n      \"column\": \"Parch\",\n      \"properties\": {\n        \"dtype\": \"number\",\n        \"std\": 0,\n        \"min\": 0,\n        \"max\": 6,\n        \"num_unique_values\": 7,\n        \"samples\": [\n          0,\n          1\n        ],\n        \"semantic_type\": \"\",\n        \"description\": \"\"\n      }\n    },\n    {\n      \"column\": \"Ticket\",\n      \"properties\": {\n        \"dtype\": \"string\",\n        \"num_unique_values\": 681,\n        \"samples\": [\n          \"11774\",\n          \"248740\"\n        ],\n        \"semantic_type\": \"\",\n        \"description\": \"\"\n      }\n    },\n    {\n      \"column\": \"Fare\",\n      \"properties\": {\n        \"dtype\": \"number\",\n        \"std\": 49.693428597180905,\n        \"min\": 0.0,\n        \"max\": 512.3292,\n        \"num_unique_values\": 248,\n        \"samples\": [\n          11.2417,\n          51.8625\n        ],\n        \"semantic_type\": \"\",\n        \"description\": \"\"\n      }\n    },\n    {\n      \"column\": \"Cabin\",\n      \"properties\": {\n        \"dtype\": \"category\",\n        \"num_unique_values\": 147,\n        \"samples\": [\n          \"D45\",\n          \"B49\"\n        ],\n        \"semantic_type\": \"\",\n        \"description\": \"\"\n      }\n    },\n    {\n      \"column\": \"Embarked\",\n      \"properties\": {\n        \"dtype\": \"category\",\n        \"num_unique_values\": 3,\n        \"samples\": [\n          \"S\",\n          \"C\"\n        ],\n        \"semantic_type\": \"\",\n        \"description\": \"\"\n      }\n    }\n  ]\n}"
            }
          },
          "metadata": {},
          "execution_count": 43
        }
      ],
      "source": [
        "df = pd.read_csv('train.csv')\n",
        "df.head()"
      ]
    },
    {
      "cell_type": "markdown",
      "id": "7e219af6",
      "metadata": {
        "id": "7e219af6"
      },
      "source": [
        "## 2. Remove Unnecessary Columns\n",
        "The `PassengerId` column is simply an identifier and does not provide useful information for analysis."
      ]
    },
    {
      "cell_type": "code",
      "execution_count": 44,
      "id": "7cdb3427",
      "metadata": {
        "id": "7cdb3427"
      },
      "outputs": [],
      "source": [
        "df.drop(columns=['PassengerId'], inplace=True)"
      ]
    },
    {
      "cell_type": "markdown",
      "id": "77ffbec7",
      "metadata": {
        "id": "77ffbec7"
      },
      "source": [
        "## 3. Fix Passenger Class (Pclass)\n",
        "Some records have `Pclass = 0`, which is an invalid value.\n",
        "We replace `0` with `Regular` to maintain consistency."
      ]
    },
    {
      "cell_type": "code",
      "execution_count": 45,
      "id": "501df3ca",
      "metadata": {
        "id": "501df3ca"
      },
      "outputs": [],
      "source": [
        "df['Pclass'] = df['Pclass'].replace(0, 'Regular')"
      ]
    },
    {
      "cell_type": "markdown",
      "id": "a2858e44",
      "metadata": {
        "id": "a2858e44"
      },
      "source": [
        "## 4. Breakdown Name Column\n",
        "The Name column is not in a machine-friendly format.\n",
        "Extracting Title (e.g., Mr., Mrs., Miss) and Last Name allows for better categorization."
      ]
    },
    {
      "cell_type": "code",
      "execution_count": 46,
      "id": "4b3602ea",
      "metadata": {
        "id": "4b3602ea"
      },
      "outputs": [],
      "source": [
        "df['Title'] = df['Name'].str.extract(r' ([A-Za-z]+)\\.', expand=False)\n",
        "df['Last_Name'] = df['Name'].str.split(',').str[0]\n",
        "df.drop(columns=['Name'], inplace=True)"
      ]
    },
    {
      "cell_type": "markdown",
      "id": "2f157c07",
      "metadata": {
        "id": "2f157c07"
      },
      "source": [
        "## 5. Standardize Gender Format\n",
        "- Gender values should be uniform for consistency.\n",
        "- Convert all values to lowercase."
      ]
    },
    {
      "cell_type": "code",
      "execution_count": 47,
      "id": "27010847",
      "metadata": {
        "id": "27010847"
      },
      "outputs": [],
      "source": [
        "df['Sex'] = df['Sex'].str.lower()"
      ]
    },
    {
      "cell_type": "markdown",
      "id": "8d125331",
      "metadata": {
        "id": "8d125331"
      },
      "source": [
        "## 6. Handle Missing Cabin Data\n",
        "- Instead of dropping Cabin, we fill missing values with \"U\" (Unknown).\n",
        "- This allows potential future analysis on the presence of cabin assignments."
      ]
    },
    {
      "cell_type": "code",
      "execution_count": 48,
      "id": "372ea0c6",
      "metadata": {
        "id": "372ea0c6"
      },
      "outputs": [],
      "source": [
        "df['Cabin'] = df['Cabin'].fillna('U')"
      ]
    },
    {
      "cell_type": "markdown",
      "id": "fb35d814",
      "metadata": {
        "id": "fb35d814"
      },
      "source": [
        "## 7. Handle Other Missing Values\n",
        "- Fill **Age** with the median value to avoid data loss.\n",
        "- Fill **Embarked** with the most common value.\n",
        "- Fill **Fare** with the median value."
      ]
    },
    {
      "cell_type": "code",
      "execution_count": 49,
      "id": "a45c2ef1",
      "metadata": {
        "id": "a45c2ef1"
      },
      "outputs": [],
      "source": [
        "df['Age'] = df['Age'].fillna(df['Age'].median())\n",
        "df['Embarked'] = df['Embarked'].fillna(df['Embarked'].mode()[0])\n",
        "df['Fare'] = df['Fare'].fillna(df['Fare'].median())"
      ]
    },
    {
      "cell_type": "markdown",
      "id": "672c62b4",
      "metadata": {
        "id": "672c62b4"
      },
      "source": [
        "## 8. Remove Duplicates\n"
      ]
    },
    {
      "cell_type": "code",
      "execution_count": 50,
      "id": "45157564",
      "metadata": {
        "id": "45157564"
      },
      "outputs": [],
      "source": [
        "df.drop_duplicates(inplace=True)"
      ]
    },
    {
      "cell_type": "markdown",
      "id": "1479ee9e",
      "metadata": {
        "id": "1479ee9e"
      },
      "source": [
        "## 9. Fix Data Types\n",
        "- Convert Pclass and Survived to categorical values.\n",
        "- Converting them to category reduces memory usage and speeds up computations. Also, for data analysis later for Pclass."
      ]
    },
    {
      "cell_type": "code",
      "execution_count": 51,
      "id": "c21d137e",
      "metadata": {
        "id": "c21d137e"
      },
      "outputs": [],
      "source": [
        "df['Pclass'] = df['Pclass'].astype('category')\n",
        "df['Survived'] = df['Survived'].astype('category')"
      ]
    },
    {
      "cell_type": "markdown",
      "id": "18c560fb",
      "metadata": {
        "id": "18c560fb"
      },
      "source": [
        "## 10. Save the Cleaned Dataset"
      ]
    },
    {
      "cell_type": "code",
      "execution_count": 52,
      "id": "a8b09833",
      "metadata": {
        "id": "a8b09833"
      },
      "outputs": [],
      "source": [
        "df.to_csv('titanic_cleaned.csv', index=False)"
      ]
    },
    {
      "cell_type": "markdown",
      "id": "f6141835",
      "metadata": {
        "id": "f6141835"
      },
      "source": [
        "## II. Basic Data Analysis & Visualization\n"
      ]
    },
    {
      "cell_type": "markdown",
      "id": "45f151f7",
      "metadata": {
        "id": "45f151f7"
      },
      "source": [
        "### 1. Average Age by Passenger Class\n",
        "This bar graph shows the average age of passengers in each class.\n",
        "- **First-class passengers** had the highest average age (`~37 years`), followed by **second class** (`~30 years`), and **third class** (`~25 years`).\n",
        "- This implies that older, more financially stable passengers were more likely to travel in first class, while younger individuals were more common in third class."
      ]
    },
    {
      "cell_type": "code",
      "execution_count": 53,
      "id": "5ca2c254",
      "metadata": {
        "colab": {
          "base_uri": "https://localhost:8080/",
          "height": 467
        },
        "id": "5ca2c254",
        "outputId": "f4f5b62e-05a1-432f-e99f-20282ca2a32b"
      },
      "outputs": [
        {
          "output_type": "display_data",
          "data": {
            "text/plain": [
              "<Figure size 640x480 with 1 Axes>"
            ],
            "image/png": "[encoded data removed]"
          },
          "metadata": {}
        }
      ],
      "source": [
        "df.groupby('Pclass', observed=False)['Age'].mean().plot(kind='bar', color=['blue', 'green', 'red'])\n",
        "plt.title('Average Age by Passenger Class')\n",
        "plt.xlabel('Passenger Class')\n",
        "plt.ylabel('Average Age')\n",
        "plt.show()"
      ]
    },
    {
      "cell_type": "markdown",
      "id": "7df29672",
      "metadata": {
        "id": "7df29672"
      },
      "source": [
        "### 2. Passenger Count by Gender and Class\n",
        "This bar graph shows the number of male and female passengers in each class.\n",
        "- Males significantly outnumber females in all three passenger classes.\n",
        "- The **third** class has the highest number of passengers, with a majority being male."
      ]
    },
    {
      "cell_type": "code",
      "execution_count": 54,
      "id": "6a342647",
      "metadata": {
        "colab": {
          "base_uri": "https://localhost:8080/",
          "height": 467
        },
        "id": "6a342647",
        "outputId": "04c14e7e-10a9-4418-c077-133842204c9e"
      },
      "outputs": [
        {
          "output_type": "display_data",
          "data": {
            "text/plain": [
              "<Figure size 640x480 with 1 Axes>"
            ],
            "image/png": "[encoded data removed]"
          },
          "metadata": {}
        }
      ],
      "source": [
        "df.groupby(['Pclass', 'Sex'], observed=False).size().unstack().plot(kind='bar', stacked=True, color=['pink', 'blue'])\n",
        "plt.title('Passenger Count by Gender and Class')\n",
        "plt.xlabel('Passenger Class')\n",
        "plt.ylabel('Count')\n",
        "plt.legend(title='Gender')\n",
        "plt.show()"
      ]
    },
    {
      "cell_type": "markdown",
      "id": "1bb1df42",
      "metadata": {
        "id": "1bb1df42"
      },
      "source": [
        "### 3. Average Age by Gender\n",
        "This bar graph shows the average age of male and female passengers.\n",
        "- The average age of  **males ( ~ 30 years)** is slightly higher than that of **females ( ~ 27 years)**.\n",
        "- This suggests that the male passengers were, on average, older than the female passengers."
      ]
    },
    {
      "cell_type": "code",
      "execution_count": 55,
      "id": "7ee09ec7",
      "metadata": {
        "colab": {
          "base_uri": "https://localhost:8080/",
          "height": 506
        },
        "id": "7ee09ec7",
        "outputId": "e98a4a2f-1bf1-4290-a5bb-95688a5d3bc0"
      },
      "outputs": [
        {
          "output_type": "display_data",
          "data": {
            "text/plain": [
              "<Figure size 640x480 with 1 Axes>"
            ],
            "image/png": "[encoded data removed]"
          },
          "metadata": {}
        }
      ],
      "source": [
        "df.groupby('Sex')['Age'].mean().plot(kind='bar', color=['pink', 'blue'])\n",
        "plt.title('Average Age by Gender')\n",
        "plt.xlabel('Gender')\n",
        "plt.ylabel('Average Age')\n",
        "plt.show()"
      ]
    },
    {
      "cell_type": "markdown",
      "id": "a89b9105",
      "metadata": {
        "id": "a89b9105"
      },
      "source": [
        "### 4. Average Fare by Gender\n",
        "This bar graph shows the average fare paid by male and female passengers.\n",
        "- Female passengers paid a **higher average fare (`~$45`)** compared to males (`~$25`).\n",
        "- This may indicate that more females traveled in **higher-class cabins** or had access to better accommodations"
      ]
    },
    {
      "cell_type": "code",
      "execution_count": 56,
      "id": "74c4310d",
      "metadata": {
        "colab": {
          "base_uri": "https://localhost:8080/",
          "height": 506
        },
        "id": "74c4310d",
        "outputId": "e3215725-e495-483c-bff8-0375912f6c6a"
      },
      "outputs": [
        {
          "output_type": "display_data",
          "data": {
            "text/plain": [
              "<Figure size 640x480 with 1 Axes>"
            ],
            "image/png": "[encoded data removed]"
          },
          "metadata": {}
        }
      ],
      "source": [
        "df.groupby('Sex')['Fare'].mean().plot(kind='bar', color=['pink', 'blue'])\n",
        "plt.title('Average Fare by Gender')\n",
        "plt.xlabel('Gender')\n",
        "plt.ylabel('Average Fare ($)')\n",
        "plt.show()"
      ]
    }
  ],
  "metadata": {
    "colab": {
      "provenance": [],
      "include_colab_link": true
    },
    "language_info": {
      "name": "python"
    },
    "kernelspec": {
      "name": "python3",
      "display_name": "Python 3"
    }
  },
  "nbformat": 4,
  "nbformat_minor": 5
}
{
  "nbformat": 4,
  "nbformat_minor": 0,
  "metadata": {
    "colab": {
      "provenance": [],
      "authorship_tag": "ABX9TyMXvfB/tgDJ+VQfLAaUu2aY",
      "include_colab_link": true
    },
    "kernelspec": {
      "name": "python3",
      "display_name": "Python 3"
    },
    "language_info": {
      "name": "python"
    }
  },
  "cells": [
    {
      "cell_type": "markdown",
      "metadata": {
        "id": "view-in-github",
        "colab_type": "text"
      },
      "source": [
        "<a href=\"https://colab.research.google.com/github/ads-coding/COSC110-Labs/blob/main/lab1_titanic_monzon.ipynb\" target=\"_parent\"><img src=\"https://colab.research.google.com/assets/colab-badge.svg\" alt=\"Open In Colab\"/></a>"
      ]
    },
    {
      "cell_type": "markdown",
      "source": [
        "# LAB 1: ANALYZING TITANIC DATASETS FROM KAGGLE"
      ],
      "metadata": {
        "id": "CdGMThtd3gs1"
      }
    },
    {
      "cell_type": "markdown",
      "source": [
        "## 1. Load the Dataset\n",
        "\n",
        "###Based on the steps described, the underlying task needed are:\n",
        "\n",
        "- **Load the dataset**: Using Pandas to load (`train.csv`) to the environment.\n",
        "- **Inspect the dataset**: Understanding the structure through the first few rows of the table."
      ],
      "metadata": {
        "id": "MHoeTLmf3gMO"
      }
    },
    {
      "cell_type": "code",
      "execution_count": null,
      "metadata": {
        "id": "1m-OJi9U3ST4"
      },
      "outputs": [],
      "source": [
        "import pandas as pd\n",
        "df = pd.read_csv('/content/train.csv')\n",
        "df.head()"
      ]
    },
    {
      "cell_type": "markdown",
      "source": [
        "## 2. Identify Missing Data\n",
        "\n",
        "##Algorithm Used:\n",
        "  - **Inspect**: First, inspect the dataset to identify which column have missing values using `df.isnull().sum()`.\n",
        "  - **Decide**: Second, if the missing value is in a crucial columns like \"Age\", fill them with mean or median of that column. If it is small and not that crucial, then drop the value.\n",
        "    - For \"Cabin\" column, since it is not crucial and provide a large proportion of missing data, it will be left out of basic analysis."
      ],
      "metadata": {
        "id": "infCDZxQ3haN"
      }
    },
    {
      "cell_type": "code",
      "source": [
        "df.isnull().sum()"
      ],
      "metadata": {
        "id": "sd9G4eQu3h1I"
      },
      "execution_count": null,
      "outputs": []
    },
    {
      "cell_type": "code",
      "source": [
        "df['Age'] = df['Age'].fillna(df['Age'].median())\n",
        "df = df.dropna(subset=['Embarked'])\n",
        "df.isnull().sum()"
      ],
      "metadata": {
        "id": "Pbdq_jFP3xY9"
      },
      "execution_count": null,
      "outputs": []
    },
    {
      "cell_type": "markdown",
      "source": [
        "## 3. Explore Survival Rates\n",
        "### Determine the Survival Rate:\n",
        "\n",
        "- Calculate the total number of passengers: Count how many rows (or records) are in the dataset.\n",
        "- Count the number of survivors: Sum the `Survived` column (assuming `1 = survived`, `0 = did not survive`).\n",
        "- Calculate the survival rate: Divide the total number of survivors by the total number of passengers, then multiply by 100 to get the percentage.\n",
        "\n",
        "###Deductions:\n",
        "- The results of the survival rate is `38.25%` which show us that most passenger did not survive."
      ],
      "metadata": {
        "id": "14Ywx3nE3iJ1"
      }
    },
    {
      "cell_type": "code",
      "source": [
        "total_passengers = len(df)\n",
        "total_survivors = df['Survived'].sum()\n",
        "\n",
        "survival_rate = (total_survivors / total_passengers) * 100\n",
        "print(f'Survival Rate: {survival_rate:.2f}%')"
      ],
      "metadata": {
        "id": "ihZgmdMU3iis"
      },
      "execution_count": null,
      "outputs": []
    },
    {
      "cell_type": "markdown",
      "source": [
        "##4. Analyze Survival by Age\n",
        "### Determine the Average Age of Survivors and Non-Survivors:\n",
        "\n",
        "- Filter the dataset for survivors and non-survivors: Use the Survived column to separate survivors (1) and non-survivors (0).\n",
        "- Calculate the average age: Use the mean() function to find the average age for both groups.\n",
        "\n",
        "###Deductions:\n",
        "- Results:\n",
        " - Average age of survivors: `28.16`\n",
        " - Average age of non-survivors: `30.03`\n",
        "- The difference between the two data is small (around 2 years) which indicates that younger passengers had a slightly better chance of survivng. It also reflect priorities like children being rescued or the younger ones are more agile passenger that they get to lifeboats faster."
      ],
      "metadata": {
        "id": "COeAM1tx3jAH"
      }
    },
    {
      "cell_type": "code",
      "source": [
        "average_age_survivors = df[df['Survived'] == 1]['Age'].mean()\n",
        "average_age_non_survivors = df[df['Survived'] == 0]['Age'].mean()\n",
        "\n",
        "print(f'Average age of survivors: {average_age_survivors:.2f}')\n",
        "print(f'Average age of non-survivors: {average_age_non_survivors:.2f}')"
      ],
      "metadata": {
        "id": "juKIYAfP3jTM"
      },
      "execution_count": null,
      "outputs": []
    }
  ]
}
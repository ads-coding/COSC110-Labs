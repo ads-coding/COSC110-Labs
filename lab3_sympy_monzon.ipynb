{
  "cells": [
    {
      "cell_type": "markdown",
      "metadata": {
        "id": "view-in-github",
        "colab_type": "text"
      },
      "source": [
        "<a href=\"https://colab.research.google.com/github/ads-coding/COSC110-Labs/blob/main/lab3_sympy_monzon.ipynb\" target=\"_parent\"><img src=\"https://colab.research.google.com/assets/colab-badge.svg\" alt=\"Open In Colab\"/></a>"
      ]
    },
    {
      "cell_type": "markdown",
      "metadata": {
        "id": "ry6k4qR8H7Bq"
      },
      "source": [
        "## Laboratory Activity #3: Introduction to SymPy\n",
        "\n",
        "###Objectives:\n",
        "- Apply basic symbolic calculations using SymPy"
      ]
    },
    {
      "cell_type": "markdown",
      "metadata": {
        "id": "G_Ua0LKbIPfK"
      },
      "source": [
        "#### Task # 1: Include all necessary sympy modules\n",
        "\n",
        "\n"
      ]
    },
    {
      "cell_type": "code",
      "execution_count": 1,
      "metadata": {
        "id": "DPFz-qLYHiFJ"
      },
      "outputs": [],
      "source": [
        "from sympy import symbols, sqrt, simplify, expand, Eq, Rational\n",
        "x, y = symbols('x y')"
      ]
    },
    {
      "cell_type": "markdown",
      "metadata": {
        "id": "3i4pd__LIl1X"
      },
      "source": [
        "#### Task # 2: Basic calculation\n",
        "Solve for the following:\n",
        "\n",
        "- $\\frac{5}{3} + \\frac{\\sqrt{10}}{2}$\n",
        "- $\\sqrt{50} \\times \\sqrt{\\frac{5}{9}}$"
      ]
    },
    {
      "cell_type": "code",
      "execution_count": 2,
      "metadata": {
        "id": "Nk9U7XU8RhEH",
        "colab": {
          "base_uri": "https://localhost:8080/",
          "height": 55
        },
        "outputId": "dc7bc783-4575-4337-854e-7266b0d6515b"
      },
      "outputs": [
        {
          "output_type": "execute_result",
          "data": {
            "text/plain": [
              "sqrt(10)/2 + 5/3"
            ],
            "text/latex": "$\\displaystyle \\frac{\\sqrt{10}}{2} + \\frac{5}{3}$"
          },
          "metadata": {},
          "execution_count": 2
        }
      ],
      "source": [
        "expr1 = Rational(5, 3) + sqrt(10)/2\n",
        "expr1"
      ]
    },
    {
      "cell_type": "code",
      "execution_count": 3,
      "metadata": {
        "id": "6baME6J6Rgru",
        "colab": {
          "base_uri": "https://localhost:8080/",
          "height": 55
        },
        "outputId": "cdf104c4-b158-48bc-f8b7-a212ce9cf11f"
      },
      "outputs": [
        {
          "output_type": "execute_result",
          "data": {
            "text/plain": [
              "5*sqrt(2)/2"
            ],
            "text/latex": "$\\displaystyle \\frac{5 \\sqrt{2}}{2}$"
          },
          "metadata": {},
          "execution_count": 3
        }
      ],
      "source": [
        "expr2 = (sqrt(8) + sqrt(18)) / 2\n",
        "expr2"
      ]
    },
    {
      "cell_type": "markdown",
      "metadata": {
        "id": "UH2m4ur7NERn"
      },
      "source": [
        "#### Task # 3: Symbols\n",
        "Create the equation for the following using `Symbols`:\n",
        "- $2x+3y=12$\n",
        "- $x−y=4$"
      ]
    },
    {
      "cell_type": "code",
      "execution_count": 4,
      "metadata": {
        "id": "4RUw45azRejM",
        "colab": {
          "base_uri": "https://localhost:8080/",
          "height": 38
        },
        "outputId": "17d6ac62-bc68-47d1-8383-138e36b77974"
      },
      "outputs": [
        {
          "output_type": "execute_result",
          "data": {
            "text/plain": [
              "Eq(2*x + 3*y, 12)"
            ],
            "text/latex": "$\\displaystyle 2 x + 3 y = 12$"
          },
          "metadata": {},
          "execution_count": 4
        }
      ],
      "source": [
        "eq1 = Eq(2*x + 3*y, 12)\n",
        "eq1"
      ]
    },
    {
      "cell_type": "code",
      "execution_count": 5,
      "metadata": {
        "id": "nKlN5AeURwI6",
        "colab": {
          "base_uri": "https://localhost:8080/",
          "height": 38
        },
        "outputId": "9aea28c4-e4b9-466a-dd21-f1ab303e44dc"
      },
      "outputs": [
        {
          "output_type": "execute_result",
          "data": {
            "text/plain": [
              "Eq(x - y, 4)"
            ],
            "text/latex": "$\\displaystyle x - y = 4$"
          },
          "metadata": {},
          "execution_count": 5
        }
      ],
      "source": [
        "eq2 = Eq(x - y, 4)\n",
        "eq2"
      ]
    },
    {
      "cell_type": "markdown",
      "metadata": {
        "id": "IS8vTb7FPDbQ"
      },
      "source": [
        "#### Task # 3: Simplification\n",
        "Simplify the following equations using the `simplify` method\n",
        "\n",
        "- $\\frac{x^2 + 2x + 1}{x + 1}$\n",
        "\n",
        "- $\\frac{1 - \\frac{1}{1 + \\frac{1}{x}}}{1 + \\frac{1}{x}}\n",
        "$"
      ]
    },
    {
      "cell_type": "code",
      "execution_count": 6,
      "metadata": {
        "id": "38CFQlfxR0TV",
        "colab": {
          "base_uri": "https://localhost:8080/",
          "height": 38
        },
        "outputId": "0eeb6f52-073b-4404-c684-dd8dd43d8d5c"
      },
      "outputs": [
        {
          "output_type": "execute_result",
          "data": {
            "text/plain": [
              "x + 2"
            ],
            "text/latex": "$\\displaystyle x + 2$"
          },
          "metadata": {},
          "execution_count": 6
        }
      ],
      "source": [
        "expr3 = simplify((x**2 - 4)/(x - 2))\n",
        "expr3"
      ]
    },
    {
      "cell_type": "code",
      "execution_count": 7,
      "metadata": {
        "id": "fSi0XQcWR2uo",
        "colab": {
          "base_uri": "https://localhost:8080/",
          "height": 38
        },
        "outputId": "d852f114-7dba-42c6-c513-2f3470eaa18b"
      },
      "outputs": [
        {
          "output_type": "execute_result",
          "data": {
            "text/plain": [
              "x + 2"
            ],
            "text/latex": "$\\displaystyle x + 2$"
          },
          "metadata": {},
          "execution_count": 7
        }
      ],
      "source": [
        "expr4 = simplify((x**2 + 5*x + 6)/(x + 3))\n",
        "expr4"
      ]
    },
    {
      "cell_type": "markdown",
      "source": [],
      "metadata": {
        "id": "oN-p6-4qJR7H"
      }
    },
    {
      "cell_type": "markdown",
      "metadata": {
        "id": "oXI_LJ-hRR_n"
      },
      "source": [
        "### Task # 4: Expansion\n",
        "Expand the following expressions using the `expand` method\n",
        "- $(2x + 2)^2$\n",
        "- $(2x + y)(x - 2y)$\n"
      ]
    },
    {
      "cell_type": "code",
      "execution_count": 8,
      "metadata": {
        "id": "OwjWp39uS0Jb",
        "colab": {
          "base_uri": "https://localhost:8080/",
          "height": 38
        },
        "outputId": "da47a1f6-3183-4e1f-c9a3-10507c4746cc"
      },
      "outputs": [
        {
          "output_type": "execute_result",
          "data": {
            "text/plain": [
              "4*x**2 + 8*x + 4"
            ],
            "text/latex": "$\\displaystyle 4 x^{2} + 8 x + 4$"
          },
          "metadata": {},
          "execution_count": 8
        }
      ],
      "source": [
        "expr5 = expand((2*x + 2)**2)\n",
        "expr5"
      ]
    },
    {
      "cell_type": "code",
      "execution_count": 9,
      "metadata": {
        "id": "g-QEmoMCS6TH",
        "colab": {
          "base_uri": "https://localhost:8080/",
          "height": 38
        },
        "outputId": "0b414c62-a956-4371-99fe-f9e2ef486580"
      },
      "outputs": [
        {
          "output_type": "execute_result",
          "data": {
            "text/plain": [
              "x**2 - 1"
            ],
            "text/latex": "$\\displaystyle x^{2} - 1$"
          },
          "metadata": {},
          "execution_count": 9
        }
      ],
      "source": [
        "expr6 = expand((x + 1)*(x - 1))\n",
        "expr6"
      ]
    }
  ],
  "metadata": {
    "colab": {
      "provenance": [],
      "include_colab_link": true
    },
    "kernelspec": {
      "display_name": "Python 3",
      "name": "python3"
    },
    "language_info": {
      "name": "python"
    }
  },
  "nbformat": 4,
  "nbformat_minor": 0
}